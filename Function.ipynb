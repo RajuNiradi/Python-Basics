{
 "cells": [
  {
   "cell_type": "code",
   "execution_count": 2,
   "id": "37635dd7",
   "metadata": {},
   "outputs": [],
   "source": [
    "def test():\n",
    "    pass"
   ]
  },
  {
   "cell_type": "code",
   "execution_count": 3,
   "id": "c895b94d",
   "metadata": {},
   "outputs": [],
   "source": [
    "def test1():\n",
    "    print(\"this is my first function\")"
   ]
  },
  {
   "cell_type": "code",
   "execution_count": 5,
   "id": "7b825710",
   "metadata": {},
   "outputs": [
    {
     "name": "stdout",
     "output_type": "stream",
     "text": [
      "this is my first function\n"
     ]
    }
   ],
   "source": [
    "test1()"
   ]
  },
  {
   "cell_type": "code",
   "execution_count": 6,
   "id": "d439a126",
   "metadata": {},
   "outputs": [
    {
     "name": "stdout",
     "output_type": "stream",
     "text": [
      "this is my first function\n"
     ]
    }
   ],
   "source": [
    "a = test1()"
   ]
  },
  {
   "cell_type": "code",
   "execution_count": 7,
   "id": "17bca85f",
   "metadata": {},
   "outputs": [
    {
     "ename": "TypeError",
     "evalue": "unsupported operand type(s) for +: 'NoneType' and 'str'",
     "output_type": "error",
     "traceback": [
      "\u001b[1;31m---------------------------------------------------------------------------\u001b[0m",
      "\u001b[1;31mTypeError\u001b[0m                                 Traceback (most recent call last)",
      "\u001b[1;32m~\\AppData\\Local\\Temp\\ipykernel_13176\\605699739.py\u001b[0m in \u001b[0;36m<module>\u001b[1;34m\u001b[0m\n\u001b[1;32m----> 1\u001b[1;33m \u001b[0ma\u001b[0m\u001b[1;33m+\u001b[0m\u001b[1;34m\"raju\"\u001b[0m\u001b[1;33m\u001b[0m\u001b[1;33m\u001b[0m\u001b[0m\n\u001b[0m",
      "\u001b[1;31mTypeError\u001b[0m: unsupported operand type(s) for +: 'NoneType' and 'str'"
     ]
    }
   ],
   "source": [
    "a+\"raju\""
   ]
  },
  {
   "cell_type": "code",
   "execution_count": 8,
   "id": "cf6456f5",
   "metadata": {},
   "outputs": [
    {
     "name": "stdout",
     "output_type": "stream",
     "text": [
      "this is my first function\n"
     ]
    },
    {
     "data": {
      "text/plain": [
       "NoneType"
      ]
     },
     "execution_count": 8,
     "metadata": {},
     "output_type": "execute_result"
    }
   ],
   "source": [
    "type(test1())"
   ]
  },
  {
   "cell_type": "code",
   "execution_count": 9,
   "id": "f8faf430",
   "metadata": {},
   "outputs": [
    {
     "data": {
      "text/plain": [
       "'None'"
      ]
     },
     "execution_count": 9,
     "metadata": {},
     "output_type": "execute_result"
    }
   ],
   "source": [
    "str(a)"
   ]
  },
  {
   "cell_type": "code",
   "execution_count": 10,
   "id": "f3c0948b",
   "metadata": {},
   "outputs": [],
   "source": [
    "# print return none type"
   ]
  },
  {
   "cell_type": "code",
   "execution_count": 13,
   "id": "4a9e859f",
   "metadata": {},
   "outputs": [],
   "source": [
    "def test2():\n",
    "    return \"this is function\""
   ]
  },
  {
   "cell_type": "code",
   "execution_count": 14,
   "id": "ed014007",
   "metadata": {},
   "outputs": [
    {
     "data": {
      "text/plain": [
       "'this is function'"
      ]
     },
     "execution_count": 14,
     "metadata": {},
     "output_type": "execute_result"
    }
   ],
   "source": [
    "test2()"
   ]
  },
  {
   "cell_type": "code",
   "execution_count": 15,
   "id": "876d3c04",
   "metadata": {},
   "outputs": [
    {
     "data": {
      "text/plain": [
       "'this is functionraju'"
      ]
     },
     "execution_count": 15,
     "metadata": {},
     "output_type": "execute_result"
    }
   ],
   "source": [
    "test2() + \"raju\""
   ]
  },
  {
   "cell_type": "code",
   "execution_count": 16,
   "id": "a22e645f",
   "metadata": {},
   "outputs": [],
   "source": [
    "def test3():\n",
    "    return 123"
   ]
  },
  {
   "cell_type": "code",
   "execution_count": 17,
   "id": "a790653b",
   "metadata": {},
   "outputs": [
    {
     "data": {
      "text/plain": [
       "int"
      ]
     },
     "execution_count": 17,
     "metadata": {},
     "output_type": "execute_result"
    }
   ],
   "source": [
    "type(test3())"
   ]
  },
  {
   "cell_type": "code",
   "execution_count": 18,
   "id": "3bb9984a",
   "metadata": {},
   "outputs": [],
   "source": [
    "def test4():\n",
    "    return 1,23,\"raju\",[1,2,3]"
   ]
  },
  {
   "cell_type": "code",
   "execution_count": 20,
   "id": "f0f92f48",
   "metadata": {},
   "outputs": [
    {
     "data": {
      "text/plain": [
       "(1, 23, 'raju', [1, 2, 3])"
      ]
     },
     "execution_count": 20,
     "metadata": {},
     "output_type": "execute_result"
    }
   ],
   "source": [
    "test4()"
   ]
  },
  {
   "cell_type": "code",
   "execution_count": 19,
   "id": "c1426dcf",
   "metadata": {},
   "outputs": [
    {
     "data": {
      "text/plain": [
       "tuple"
      ]
     },
     "execution_count": 19,
     "metadata": {},
     "output_type": "execute_result"
    }
   ],
   "source": [
    "type(test4())"
   ]
  },
  {
   "cell_type": "code",
   "execution_count": 21,
   "id": "072254e7",
   "metadata": {},
   "outputs": [],
   "source": [
    "b = test4()"
   ]
  },
  {
   "cell_type": "code",
   "execution_count": 22,
   "id": "0e0a989c",
   "metadata": {},
   "outputs": [
    {
     "data": {
      "text/plain": [
       "(1, 23, 'raju', [1, 2, 3])"
      ]
     },
     "execution_count": 22,
     "metadata": {},
     "output_type": "execute_result"
    }
   ],
   "source": [
    "b"
   ]
  },
  {
   "cell_type": "code",
   "execution_count": 23,
   "id": "5834381d",
   "metadata": {},
   "outputs": [
    {
     "data": {
      "text/plain": [
       "1"
      ]
     },
     "execution_count": 23,
     "metadata": {},
     "output_type": "execute_result"
    }
   ],
   "source": [
    "b[0]"
   ]
  },
  {
   "cell_type": "code",
   "execution_count": 24,
   "id": "ceb4d73d",
   "metadata": {},
   "outputs": [
    {
     "data": {
      "text/plain": [
       "(23, 'raju')"
      ]
     },
     "execution_count": 24,
     "metadata": {},
     "output_type": "execute_result"
    }
   ],
   "source": [
    "b[1:3]"
   ]
  },
  {
   "cell_type": "code",
   "execution_count": 25,
   "id": "439331ba",
   "metadata": {},
   "outputs": [],
   "source": [
    "x,y,z,a = test4() # variable assinnment"
   ]
  },
  {
   "cell_type": "code",
   "execution_count": 26,
   "id": "85336cfd",
   "metadata": {},
   "outputs": [
    {
     "data": {
      "text/plain": [
       "1"
      ]
     },
     "execution_count": 26,
     "metadata": {},
     "output_type": "execute_result"
    }
   ],
   "source": [
    "x"
   ]
  },
  {
   "cell_type": "code",
   "execution_count": 27,
   "id": "790154cf",
   "metadata": {},
   "outputs": [
    {
     "data": {
      "text/plain": [
       "23"
      ]
     },
     "execution_count": 27,
     "metadata": {},
     "output_type": "execute_result"
    }
   ],
   "source": [
    "y"
   ]
  },
  {
   "cell_type": "code",
   "execution_count": 28,
   "id": "61b76003",
   "metadata": {},
   "outputs": [],
   "source": [
    "def test5():\n",
    "    a = 6*8/7\n",
    "    return a"
   ]
  },
  {
   "cell_type": "code",
   "execution_count": 29,
   "id": "f50314b2",
   "metadata": {},
   "outputs": [
    {
     "data": {
      "text/plain": [
       "6.857142857142857"
      ]
     },
     "execution_count": 29,
     "metadata": {},
     "output_type": "execute_result"
    }
   ],
   "source": [
    "test5()"
   ]
  },
  {
   "cell_type": "code",
   "execution_count": 32,
   "id": "86a8052e",
   "metadata": {},
   "outputs": [],
   "source": [
    "l = [1,2,3,4,5,5,6,'raju',[1,2,3]]"
   ]
  },
  {
   "cell_type": "code",
   "execution_count": 33,
   "id": "36a37606",
   "metadata": {},
   "outputs": [],
   "source": [
    "#write function give integer only in list"
   ]
  },
  {
   "cell_type": "code",
   "execution_count": 34,
   "id": "5e399a32",
   "metadata": {},
   "outputs": [],
   "source": [
    "def test6(a):\n",
    "    n=[]\n",
    "    if type(a)== list:\n",
    "        for i in a:\n",
    "            if type(i) == int:\n",
    "                n.append(i)\n",
    "                \n",
    "    return n\n",
    "            \n",
    "        "
   ]
  },
  {
   "cell_type": "code",
   "execution_count": 35,
   "id": "fbabe3be",
   "metadata": {},
   "outputs": [
    {
     "data": {
      "text/plain": [
       "[1, 2, 3, 4, 5, 5, 6]"
      ]
     },
     "execution_count": 35,
     "metadata": {},
     "output_type": "execute_result"
    }
   ],
   "source": [
    "test6(l)"
   ]
  },
  {
   "cell_type": "code",
   "execution_count": 36,
   "id": "69bf01e1",
   "metadata": {},
   "outputs": [
    {
     "data": {
      "text/plain": [
       "[23, 4, 5, 6]"
      ]
     },
     "execution_count": 36,
     "metadata": {},
     "output_type": "execute_result"
    }
   ],
   "source": [
    "test6([23,4,5,6,[2,2,2,3,4],'raju'])"
   ]
  },
  {
   "cell_type": "code",
   "execution_count": null,
   "id": "60c105db",
   "metadata": {},
   "outputs": [],
   "source": [
    "#function increase reusablity of code"
   ]
  },
  {
   "cell_type": "code",
   "execution_count": 37,
   "id": "ed3e801e",
   "metadata": {},
   "outputs": [],
   "source": [
    "#write function key values in dict\n",
    "def test8(c):\n",
    "    \n",
    "    if type (c) == dict:\n",
    "        return c.keys()\n",
    "    else :\n",
    "        return(\" not dict\")\n",
    "    "
   ]
  },
  {
   "cell_type": "code",
   "execution_count": 40,
   "id": "b784b7e4",
   "metadata": {},
   "outputs": [
    {
     "data": {
      "text/plain": [
       "dict_keys(['ra', 'g'])"
      ]
     },
     "execution_count": 40,
     "metadata": {},
     "output_type": "execute_result"
    }
   ],
   "source": [
    "test8({'ra':'123','g':[1,2,4]})"
   ]
  },
  {
   "cell_type": "code",
   "execution_count": null,
   "id": "ff433645",
   "metadata": {},
   "outputs": [],
   "source": []
  },
  {
   "cell_type": "code",
   "execution_count": null,
   "id": "29298cd6",
   "metadata": {},
   "outputs": [],
   "source": [
    "# write function merage two list"
   ]
  },
  {
   "cell_type": "code",
   "execution_count": 41,
   "id": "5947390b",
   "metadata": {},
   "outputs": [],
   "source": [
    "def test9(a,b):\n",
    "    if type (a)==list and type(b)==list:\n",
    "        a.extend (b)\n",
    "        return a\n",
    "    else:\n",
    "        return ('either is not list')\n",
    "    "
   ]
  },
  {
   "cell_type": "code",
   "execution_count": 42,
   "id": "a4be98d9",
   "metadata": {},
   "outputs": [
    {
     "data": {
      "text/plain": [
       "[1, 2, 3, 4, 5, 6]"
      ]
     },
     "execution_count": 42,
     "metadata": {},
     "output_type": "execute_result"
    }
   ],
   "source": [
    "test9([1,2,3],[4,5,6])"
   ]
  },
  {
   "cell_type": "code",
   "execution_count": 31,
   "id": "67f2727d",
   "metadata": {},
   "outputs": [],
   "source": [
    "def triangle(rows):\n",
    "    \"\"\"printing triange\"\"\"\n",
    "    for i in range (0,rows):\n",
    "        for j in range (0,i+1):\n",
    "            print(\".\",end=\"\")\n",
    "        print(\"\\n\")      "
   ]
  },
  {
   "cell_type": "code",
   "execution_count": 28,
   "id": "2369a36b",
   "metadata": {},
   "outputs": [
    {
     "name": "stdout",
     "output_type": "stream",
     "text": [
      ".\n",
      "\n",
      "..\n",
      "\n",
      "...\n",
      "\n",
      "....\n",
      "\n",
      ".....\n",
      "\n"
     ]
    }
   ],
   "source": [
    "triangle(5)"
   ]
  },
  {
   "cell_type": "code",
   "execution_count": null,
   "id": "5fdfce70",
   "metadata": {},
   "outputs": [],
   "source": [
    "# passing N no of arguments"
   ]
  },
  {
   "cell_type": "code",
   "execution_count": 33,
   "id": "d4e2c189",
   "metadata": {},
   "outputs": [],
   "source": [
    "def test1(*args):\n",
    "    return args"
   ]
  },
  {
   "cell_type": "code",
   "execution_count": 34,
   "id": "e24d7bd4",
   "metadata": {},
   "outputs": [
    {
     "data": {
      "text/plain": [
       "(1, 2, 3, 4, 5, 6)"
      ]
     },
     "execution_count": 34,
     "metadata": {},
     "output_type": "execute_result"
    }
   ],
   "source": [
    "test1(1,2,3,4,5,6)"
   ]
  },
  {
   "cell_type": "code",
   "execution_count": null,
   "id": "ae6bded9",
   "metadata": {},
   "outputs": [],
   "source": [
    "#*args: passing N number of arguments(Staric ) args not standard keyword"
   ]
  },
  {
   "cell_type": "code",
   "execution_count": 35,
   "id": "06c74122",
   "metadata": {},
   "outputs": [],
   "source": [
    "def test2(*raju):\n",
    "    return raju"
   ]
  },
  {
   "cell_type": "code",
   "execution_count": 36,
   "id": "b20727a6",
   "metadata": {},
   "outputs": [
    {
     "data": {
      "text/plain": [
       "(23, 4, 656, 'er')"
      ]
     },
     "execution_count": 36,
     "metadata": {},
     "output_type": "execute_result"
    }
   ],
   "source": [
    "test2(23,4,656,'er')"
   ]
  },
  {
   "cell_type": "code",
   "execution_count": 37,
   "id": "4c4bda09",
   "metadata": {},
   "outputs": [],
   "source": [
    "def test3(*args,a):\n",
    "    return args,a"
   ]
  },
  {
   "cell_type": "code",
   "execution_count": 39,
   "id": "f8c5e98a",
   "metadata": {},
   "outputs": [
    {
     "data": {
      "text/plain": [
       "(((1, 22, 3),), 34)"
      ]
     },
     "execution_count": 39,
     "metadata": {},
     "output_type": "execute_result"
    }
   ],
   "source": [
    "test3((1,22,3,),a=34)"
   ]
  },
  {
   "cell_type": "code",
   "execution_count": 40,
   "id": "c44b1298",
   "metadata": {},
   "outputs": [],
   "source": [
    "def test4(*raju,a,b,c,d):\n",
    "    return(raju,a,b,c,d)"
   ]
  },
  {
   "cell_type": "code",
   "execution_count": 41,
   "id": "6c5c7463",
   "metadata": {},
   "outputs": [
    {
     "data": {
      "text/plain": [
       "(((1, 2, 3, 4, 5),), 1, 3, 0, 7)"
      ]
     },
     "execution_count": 41,
     "metadata": {},
     "output_type": "execute_result"
    }
   ],
   "source": [
    "test4((1,2,3,4,5),a=1,b=3,c=0,d=7)"
   ]
  },
  {
   "cell_type": "code",
   "execution_count": null,
   "id": "b9df4432",
   "metadata": {},
   "outputs": [],
   "source": []
  }
 ],
 "metadata": {
  "kernelspec": {
   "display_name": "Python 3 (ipykernel)",
   "language": "python",
   "name": "python3"
  },
  "language_info": {
   "codemirror_mode": {
    "name": "ipython",
    "version": 3
   },
   "file_extension": ".py",
   "mimetype": "text/x-python",
   "name": "python",
   "nbconvert_exporter": "python",
   "pygments_lexer": "ipython3",
   "version": "3.9.13"
  }
 },
 "nbformat": 4,
 "nbformat_minor": 5
}
